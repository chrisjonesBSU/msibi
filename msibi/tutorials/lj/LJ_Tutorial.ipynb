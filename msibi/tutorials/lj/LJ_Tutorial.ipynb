{
 "cells": [
  {
   "cell_type": "markdown",
   "metadata": {},
   "source": [
    "# LJ Tutorial "
   ]
  },
  {
   "cell_type": "markdown",
   "metadata": {},
   "source": [
    "The target trajectory files in this example were generated with the code below (hidden, click to reveal):"
   ]
  },
  {
   "cell_type": "code",
   "execution_count": null,
   "metadata": {},
   "outputs": [],
   "source": [
    "# This cell takes 40 minutes. Don't uncomment and rerun it unless you have a good reason.\n",
    "# trajectory{kT}.gsd files were created here\n",
    "\n",
    "#for i,kT in enumerate(kTs):\n",
    "#    hoomd.context.initialize(\"\")\n",
    "#    system = hoomd.init.create_lattice(\n",
    "#        unitcell = (hoomd.lattice.sc(a=1.58, type_name=\"A\")), \n",
    "#        n = n,\n",
    "#    )\n",
    "#    \n",
    "#    nl = hoomd.md.nlist.cell()\n",
    "#    lj = hoomd.md.pair.lj(r_cut=2.5, nlist=nl)\n",
    "#    lj.pair_coeff.set('A', 'A', epsilon=1.0, sigma=1.0)\n",
    "#    hoomd.md.integrate.mode_standard(dt=0.001)\n",
    "#    _all = hoomd.group.all()\n",
    "#    nvt = hoomd.md.integrate.nvt(group=_all, kT=kT, tau=1)\n",
    "#    nvt.randomize_velocities(seed=23)\n",
    "#    hoomd.analyze.log(a\n",
    "#        filename=f'LJ_kT{kT}.log',\n",
    "#        quantities=[\"time\", \"temperature\", \"potential_energy\"],\n",
    "#        period=100,\n",
    "#        overwrite=True\n",
    "#    )\n",
    "#    hoomd.dump.gsd(f'trajectory{kT}.gsd', period=5e3, group=_all, overwrite=True)\n",
    "#    hoomd.run(1e6)\n",
    "\n",
    "# Check that the system is equilibrated.\n",
    "\n",
    "#fig, (ax1, ax2) = plt.subplots(1, 2, sharey=True)\n",
    "#fig.suptitle(\"Potential Energy vs Timestep\")\n",
    "#for i, kT in enumerate(kTs):   \n",
    "#    log = np.loadtxt(f'state{i}/LJ_kT{kT}.log', skiprows=1)\n",
    "#    ax1.plot(log[:,0],log[:,3], label=f\"kT={kT}\")\n",
    "#    ax2.plot(log[-50:,0],log[-50:,3], label=f\"kT={kT}\")\n",
    "#    ax1.set_xlabel(\"Timestep\")\n",
    "#    ax2.set_xlabel(\"Timestep\")\n",
    "#    ax1.set_ylabel(\"Potential Energy (AU)\")\n",
    "#    ax1.legend()\n",
    "#    ax2.legend()\n",
    "\n",
    "#for i,kT in enumerate(kTs):\n",
    "#    gsdfile = f'state{i}/trajectory{kT}.gsd'\n",
    "#    with gsd.hoomd.open(gsdfile) as t:\n",
    "#        rdf = freud.density.RDF(bins=101, r_max=5)\n",
    "#        for snap in t[-50:]:\n",
    "#            rdf.compute(system=snap, reset=False)\n",
    "#        data = np.stack((rdf.bin_centers, rdf.rdf)).T\n",
    "#        np.savetxt(f\"rdfs/rdftarget{i}\", data)\n",
    "#        plt.plot(rdf.bin_centers, rdf.rdf)\n",
    "#        plt.title(f\"State {i} kT = {kT}\")\n",
    "#        plt.xlabel(\"r\")\n",
    "#        plt.ylabel(\"g(r)\")\n",
    "#        plt.show()"
   ]
  },
  {
   "cell_type": "code",
   "execution_count": 1,
   "metadata": {},
   "outputs": [],
   "source": [
    "import itertools\n",
    "\n",
    "import freud\n",
    "import gsd\n",
    "import gsd.hoomd\n",
    "import hoomd\n",
    "import hoomd.md\n",
    "import matplotlib.pyplot as plt\n",
    "import mdtraj as md\n",
    "import numpy as np\n",
    "\n",
    "from msibi import MSIBI, State, Pair, mie\n",
    "from msibi.utils.general import get_msibi_instance"
   ]
  },
  {
   "cell_type": "code",
   "execution_count": 2,
   "metadata": {},
   "outputs": [],
   "source": [
    "%%bash\n",
    "rm -rf state*/* rdfs/pair* potentials/* f_fits.log state*/log.txt state*/err.txt state*/run.py state*/query.dcd"
   ]
  },
  {
   "cell_type": "code",
   "execution_count": 3,
   "metadata": {},
   "outputs": [],
   "source": [
    "kTs = [0.5, 1.5, 2.0]\n",
    "n = 12\n",
    "n_particles = n**3"
   ]
  },
  {
   "cell_type": "markdown",
   "metadata": {},
   "source": [
    "## Create MSIBI instance"
   ]
  },
  {
   "cell_type": "code",
   "execution_count": 4,
   "metadata": {},
   "outputs": [],
   "source": [
    "# Pass in values that will be used \n",
    "opt = MSIBI(\n",
    "    rdf_cutoff=5.0,\n",
    "    n_rdf_points=101,\n",
    "    max_frames=10,\n",
    "    pot_cutoff=5.0,\n",
    "    smooth_rdfs=True,\n",
    "    verbose=True\n",
    ")"
   ]
  },
  {
   "cell_type": "markdown",
   "metadata": {},
   "source": [
    "## Specify states"
   ]
  },
  {
   "cell_type": "code",
   "execution_count": 5,
   "metadata": {},
   "outputs": [
    {
     "ename": "OSError",
     "evalue": "No such file: /Users/jenny/Projects/msibi/msibi/tutorials/lj/trajectory0.5.gsd",
     "output_type": "error",
     "traceback": [
      "\u001b[0;31m---------------------------------------------------------------------------\u001b[0m",
      "\u001b[0;31mOSError\u001b[0m                                   Traceback (most recent call last)",
      "\u001b[0;32m<ipython-input-5-55e17754b86e>\u001b[0m in \u001b[0;36m<module>\u001b[0;34m\u001b[0m\n\u001b[1;32m      7\u001b[0m                \u001b[0mtraj_file\u001b[0m\u001b[0;34m=\u001b[0m\u001b[0;34m\"trajectory0.5.gsd\"\u001b[0m\u001b[0;34m,\u001b[0m\u001b[0;34m\u001b[0m\u001b[0;34m\u001b[0m\u001b[0m\n\u001b[1;32m      8\u001b[0m                \u001b[0moptimizer\u001b[0m \u001b[0;34m=\u001b[0m \u001b[0mopt\u001b[0m\u001b[0;34m,\u001b[0m\u001b[0;34m\u001b[0m\u001b[0;34m\u001b[0m\u001b[0m\n\u001b[0;32m----> 9\u001b[0;31m                \u001b[0malpha\u001b[0m\u001b[0;34m=\u001b[0m\u001b[0;36m0.25\u001b[0m\u001b[0;34m\u001b[0m\u001b[0;34m\u001b[0m\u001b[0m\n\u001b[0m\u001b[1;32m     10\u001b[0m               )\n\u001b[1;32m     11\u001b[0m stateB = State(name=\"B\",\n",
      "\u001b[0;32m~/Projects/msibi/msibi/state.py\u001b[0m in \u001b[0;36m__init__\u001b[0;34m(self, name, kT, traj_file, optimizer, alpha, top_file, backup_trajectory)\u001b[0m\n\u001b[1;32m     76\u001b[0m         \u001b[0mself\u001b[0m\u001b[0;34m.\u001b[0m\u001b[0malpha\u001b[0m \u001b[0;34m=\u001b[0m \u001b[0mfloat\u001b[0m\u001b[0;34m(\u001b[0m\u001b[0malpha\u001b[0m\u001b[0;34m)\u001b[0m\u001b[0;34m\u001b[0m\u001b[0;34m\u001b[0m\u001b[0m\n\u001b[1;32m     77\u001b[0m         \u001b[0mself\u001b[0m\u001b[0;34m.\u001b[0m\u001b[0mdir\u001b[0m \u001b[0;34m=\u001b[0m \u001b[0mself\u001b[0m\u001b[0;34m.\u001b[0m\u001b[0m_setup_dir\u001b[0m\u001b[0;34m(\u001b[0m\u001b[0mname\u001b[0m\u001b[0;34m,\u001b[0m \u001b[0mkT\u001b[0m\u001b[0;34m)\u001b[0m\u001b[0;34m\u001b[0m\u001b[0;34m\u001b[0m\u001b[0m\n\u001b[0;32m---> 78\u001b[0;31m         \u001b[0mself\u001b[0m\u001b[0;34m.\u001b[0m\u001b[0mtraj\u001b[0m \u001b[0;34m=\u001b[0m \u001b[0mmd\u001b[0m\u001b[0;34m.\u001b[0m\u001b[0mload\u001b[0m\u001b[0;34m(\u001b[0m\u001b[0mself\u001b[0m\u001b[0;34m.\u001b[0m\u001b[0mtraj_file\u001b[0m \u001b[0;34m)\u001b[0m\u001b[0;34m\u001b[0m\u001b[0;34m\u001b[0m\u001b[0m\n\u001b[0m\u001b[1;32m     79\u001b[0m         \u001b[0mself\u001b[0m\u001b[0;34m.\u001b[0m\u001b[0mbackup_trajectory\u001b[0m \u001b[0;34m=\u001b[0m \u001b[0mbackup_trajectory\u001b[0m\u001b[0;34m\u001b[0m\u001b[0;34m\u001b[0m\u001b[0m\n\u001b[1;32m     80\u001b[0m         \u001b[0mself\u001b[0m\u001b[0;34m.\u001b[0m\u001b[0m_is_gsd\u001b[0m \u001b[0;34m=\u001b[0m \u001b[0;32mTrue\u001b[0m\u001b[0;34m\u001b[0m\u001b[0;34m\u001b[0m\u001b[0m\n",
      "\u001b[0;32m~/miniconda3/envs/msibi/lib/python3.7/site-packages/mdtraj/core/trajectory.py\u001b[0m in \u001b[0;36mload\u001b[0;34m(filename_or_filenames, discard_overlapping_frames, **kwargs)\u001b[0m\n\u001b[1;32m    427\u001b[0m \u001b[0;34m\u001b[0m\u001b[0m\n\u001b[1;32m    428\u001b[0m     \u001b[0;32mif\u001b[0m \u001b[0mloader\u001b[0m\u001b[0;34m.\u001b[0m\u001b[0m__name__\u001b[0m \u001b[0;32mnot\u001b[0m \u001b[0;32min\u001b[0m \u001b[0;34m[\u001b[0m\u001b[0;34m'load_dtr'\u001b[0m\u001b[0;34m]\u001b[0m\u001b[0;34m:\u001b[0m\u001b[0;34m\u001b[0m\u001b[0;34m\u001b[0m\u001b[0m\n\u001b[0;32m--> 429\u001b[0;31m         \u001b[0m_assert_files_exist\u001b[0m\u001b[0;34m(\u001b[0m\u001b[0mfilename_or_filenames\u001b[0m\u001b[0;34m)\u001b[0m\u001b[0;34m\u001b[0m\u001b[0;34m\u001b[0m\u001b[0m\n\u001b[0m\u001b[1;32m    430\u001b[0m     \u001b[0;32melse\u001b[0m\u001b[0;34m:\u001b[0m\u001b[0;34m\u001b[0m\u001b[0;34m\u001b[0m\u001b[0m\n\u001b[1;32m    431\u001b[0m         \u001b[0m_assert_files_or_dirs_exist\u001b[0m\u001b[0;34m(\u001b[0m\u001b[0mfilename_or_filenames\u001b[0m\u001b[0;34m)\u001b[0m\u001b[0;34m\u001b[0m\u001b[0;34m\u001b[0m\u001b[0m\n",
      "\u001b[0;32m~/miniconda3/envs/msibi/lib/python3.7/site-packages/mdtraj/core/trajectory.py\u001b[0m in \u001b[0;36m_assert_files_exist\u001b[0;34m(filenames)\u001b[0m\n\u001b[1;32m     98\u001b[0m     \u001b[0;32mfor\u001b[0m \u001b[0mfn\u001b[0m \u001b[0;32min\u001b[0m \u001b[0mfilenames\u001b[0m\u001b[0;34m:\u001b[0m\u001b[0;34m\u001b[0m\u001b[0;34m\u001b[0m\u001b[0m\n\u001b[1;32m     99\u001b[0m         \u001b[0;32mif\u001b[0m \u001b[0;32mnot\u001b[0m \u001b[0;34m(\u001b[0m\u001b[0mos\u001b[0m\u001b[0;34m.\u001b[0m\u001b[0mpath\u001b[0m\u001b[0;34m.\u001b[0m\u001b[0mexists\u001b[0m\u001b[0;34m(\u001b[0m\u001b[0mfn\u001b[0m\u001b[0;34m)\u001b[0m \u001b[0;32mand\u001b[0m \u001b[0mos\u001b[0m\u001b[0;34m.\u001b[0m\u001b[0mpath\u001b[0m\u001b[0;34m.\u001b[0m\u001b[0misfile\u001b[0m\u001b[0;34m(\u001b[0m\u001b[0mfn\u001b[0m\u001b[0;34m)\u001b[0m\u001b[0;34m)\u001b[0m\u001b[0;34m:\u001b[0m\u001b[0;34m\u001b[0m\u001b[0;34m\u001b[0m\u001b[0m\n\u001b[0;32m--> 100\u001b[0;31m             \u001b[0;32mraise\u001b[0m \u001b[0mIOError\u001b[0m\u001b[0;34m(\u001b[0m\u001b[0;34m'No such file: %s'\u001b[0m \u001b[0;34m%\u001b[0m \u001b[0mfn\u001b[0m\u001b[0;34m)\u001b[0m\u001b[0;34m\u001b[0m\u001b[0;34m\u001b[0m\u001b[0m\n\u001b[0m\u001b[1;32m    101\u001b[0m \u001b[0;34m\u001b[0m\u001b[0m\n\u001b[1;32m    102\u001b[0m \u001b[0;34m\u001b[0m\u001b[0m\n",
      "\u001b[0;31mOSError\u001b[0m: No such file: /Users/jenny/Projects/msibi/msibi/tutorials/lj/trajectory0.5.gsd"
     ]
    }
   ],
   "source": [
    "# Each state should have it's own corresponding trajectory (gsd) file\n",
    "# Create a state by passing in a name, trajectory file, and alpha value\n",
    "# The MSIBI instance created earlier needs to be passed in as well\n",
    "\n",
    "stateA = State(name=\"A\",\n",
    "               kT=0.5,\n",
    "               traj_file=\"trajectory0.5.gsd\",\n",
    "               optimizer = opt,\n",
    "               alpha=0.25\n",
    "              )\n",
    "stateB = State(name=\"B\",\n",
    "               kT=1.5,\n",
    "               traj_file=\"trajectory1.5.gsd\",\n",
    "               optimizer = opt,\n",
    "               alpha=0.50\n",
    "              )\n",
    "stateC = State(name=\"C\",\n",
    "               kT=2.0,\n",
    "               traj_file=\"trajectory2.0.gsd\",\n",
    "               optimizer = opt,\n",
    "               alpha=0.25\n",
    "              )"
   ]
  },
  {
   "cell_type": "markdown",
   "metadata": {},
   "source": [
    "## Specify pairs"
   ]
  },
  {
   "cell_type": "code",
   "execution_count": null,
   "metadata": {},
   "outputs": [],
   "source": [
    "indices = list(itertools.combinations(range(n_particles), 2))  \n",
    "\n",
    "# Each type of possible pair-wise interaction of the system should have its own Pair() created\n",
    "# Each Pair() object needs to have the states created above added\n",
    "\n",
    "initial_guess = mie(opt.pot_r, 1.0, 1.0)\n",
    "pair0 = Pair(type1=\"A\", type2=\"A\", potential=initial_guess)\n",
    "\n",
    "pair0.add_state(stateA,\n",
    "                calculate_target_rdf=True,\n",
    "                pair_indices=indices\n",
    "               )\n",
    "pair0.add_state(stateB,\n",
    "                calculate_target_rdf=True,\n",
    "               pair_indices=indices\n",
    "               )\n",
    "pair0.add_state(stateC,\n",
    "                calculate_target_rdf=True,\n",
    "               pair_indices=indices\n",
    "               )"
   ]
  },
  {
   "cell_type": "code",
   "execution_count": null,
   "metadata": {},
   "outputs": [],
   "source": [
    "#pair0.compute_current_rdf(state=stateA, smooth=False)\n",
    "#plt.plot(pair0.states[stateA]['current_rdf'][:, 0], pair0.states[stateA]['current_rdf'][:, 1])"
   ]
  },
  {
   "cell_type": "markdown",
   "metadata": {},
   "source": [
    "## Implement MSIBI algorithm"
   ]
  },
  {
   "cell_type": "code",
   "execution_count": null,
   "metadata": {
    "scrolled": true
   },
   "outputs": [],
   "source": [
    "# Run the optimization steps\n",
    "# Pass in lists of any state and pair objects created above\n",
    "\n",
    "opt.optimize(states=[stateA, stateB, stateC],\n",
    "             pairs=[pair0],\n",
    "             n_iterations=5,\n",
    "             engine='hoomd'\n",
    "            )"
   ]
  },
  {
   "cell_type": "markdown",
   "metadata": {},
   "source": [
    "## Plot results"
   ]
  },
  {
   "cell_type": "code",
   "execution_count": null,
   "metadata": {},
   "outputs": [],
   "source": [
    "for state in states:\n",
    "    plt.title(f'{state.name} kt={state.kT}')\n",
    "    \n",
    "    for step in range(0,opt.n_iterations):\n",
    "        try:\n",
    "            step_rdf = np.loadtxt(f'rdfs/pair_A-A-state_{state.name}-step{step}.txt')\n",
    "            plt.plot(step_rdf[:,0],step_rdf[:,1], label=f'step {step}')\n",
    "        except OSError:\n",
    "            break\n",
    "    target = np.loadtxt(f'rdfs/rdf.target{state.name.strip(\"state\")}.t1t1.txt')\n",
    "    plt.plot(target[:,0], target[:,1], label='target')\n",
    "    plt.legend()\n",
    "    plt.show()"
   ]
  },
  {
   "cell_type": "code",
   "execution_count": null,
   "metadata": {},
   "outputs": [],
   "source": [
    "for step in range(0, opt.n_iterations):\n",
    "    plt.ylim([-1.5,0.5])\n",
    "    plt.xlim([0.5,2])\n",
    "    plt.title(\"MSIBI potentials by iteration\")\n",
    "    try:\n",
    "        step_pot = np.loadtxt(f'potentials/step{step}.pot.A-A.txt')\n",
    "        plt.plot(step_pot[:,0],step_pot[:,1], label=f'step {step}')\n",
    "    except OSError:\n",
    "        break\n",
    "plt.legend()\n",
    "plt.show()"
   ]
  },
  {
   "cell_type": "code",
   "execution_count": null,
   "metadata": {},
   "outputs": [],
   "source": []
  }
 ],
 "metadata": {
  "kernelspec": {
   "display_name": "Python 3",
   "language": "python",
   "name": "python3"
  },
  "language_info": {
   "codemirror_mode": {
    "name": "ipython",
    "version": 3
   },
   "file_extension": ".py",
   "mimetype": "text/x-python",
   "name": "python",
   "nbconvert_exporter": "python",
   "pygments_lexer": "ipython3",
   "version": "3.7.10"
  }
 },
 "nbformat": 4,
 "nbformat_minor": 4
}
