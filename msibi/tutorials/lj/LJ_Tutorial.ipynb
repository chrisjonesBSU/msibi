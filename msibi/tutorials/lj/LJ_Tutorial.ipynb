{
 "cells": [
  {
   "cell_type": "markdown",
   "metadata": {},
   "source": [
    "# LJ Tutorial \n",
    "\n",
    "Environment setup\n",
    "```\n",
    "git clone git@github.com:jennyfothergill/msibi.git\n",
    "cd msibi\n",
    "conda env create -f environment.yml\n",
    "conda activate msibi\n",
    "pip install -e .\n",
    "```"
   ]
  },
  {
   "cell_type": "code",
   "execution_count": 6,
   "metadata": {},
   "outputs": [],
   "source": [
    "import itertools\n",
    "\n",
    "import freud\n",
    "import gsd\n",
    "import gsd.hoomd\n",
    "import hoomd\n",
    "import hoomd.md\n",
    "import matplotlib.pyplot as plt\n",
    "import mdtraj as md\n",
    "import numpy as np\n",
    "\n",
    "from msibi import MSIBI, State, Pair, mie, msibi_context\n",
    "from msibi.utils.general import get_msibi_instance"
   ]
  },
  {
   "cell_type": "markdown",
   "metadata": {},
   "source": [
    "Remove old runs: only the rdf targets, run_template scripts, and the start.hoomdxml remain."
   ]
  },
  {
   "cell_type": "code",
   "execution_count": null,
   "metadata": {},
   "outputs": [],
   "source": [
    "msibi_context"
   ]
  },
  {
   "cell_type": "code",
   "execution_count": null,
   "metadata": {},
   "outputs": [],
   "source": [
    "%%bash\n",
    "rm -rf state*/* rdfs/pair* potentials/* f_fits.log state*/log.txt state*/err.txt state*/run.py state*/query.dcd"
   ]
  },
  {
   "cell_type": "markdown",
   "metadata": {},
   "source": [
    "Create the trajectories at the three statepoints... takes about 40 minutes on 2.2 GHz Intel Core i7."
   ]
  },
  {
   "cell_type": "code",
   "execution_count": null,
   "metadata": {},
   "outputs": [],
   "source": [
    "kTs = [0.5, 1.5, 2.0]\n",
    "n = 12\n",
    "n_particles = n**3"
   ]
  },
  {
   "cell_type": "code",
   "execution_count": null,
   "metadata": {},
   "outputs": [],
   "source": [
    "# This cell takes 40 minutes. Don't uncomment and rerun it unless you have a good reason.\n",
    "# trajectory{kT}.gsd files were created here\n",
    "\n",
    "#for i,kT in enumerate(kTs):\n",
    "#    hoomd.context.initialize(\"\")\n",
    "#    system = hoomd.init.create_lattice(\n",
    "#        unitcell = (hoomd.lattice.sc(a=1.58, type_name=\"A\")), \n",
    "#        n = n,\n",
    "#    )\n",
    "#    \n",
    "#    nl = hoomd.md.nlist.cell()\n",
    "#    lj = hoomd.md.pair.lj(r_cut=2.5, nlist=nl)\n",
    "#    lj.pair_coeff.set('A', 'A', epsilon=1.0, sigma=1.0)\n",
    "#    hoomd.md.integrate.mode_standard(dt=0.001)\n",
    "#    _all = hoomd.group.all()\n",
    "#    nvt = hoomd.md.integrate.nvt(group=_all, kT=kT, tau=1)\n",
    "#    nvt.randomize_velocities(seed=23)\n",
    "#    hoomd.analyze.log(\n",
    "#        filename=f'LJ_kT{kT}.log',\n",
    "#        quantities=[\"time\", \"temperature\", \"potential_energy\"],\n",
    "#        period=100,\n",
    "#        overwrite=True\n",
    "#    )\n",
    "#    hoomd.dump.gsd(f'trajectory{kT}.gsd', period=5e3, group=_all, overwrite=True)\n",
    "#    hoomd.run(1e6)"
   ]
  },
  {
   "cell_type": "markdown",
   "metadata": {},
   "source": [
    "Check that the system is equilibrated."
   ]
  },
  {
   "cell_type": "code",
   "execution_count": null,
   "metadata": {},
   "outputs": [],
   "source": [
    "fig, (ax1, ax2) = plt.subplots(1, 2, sharey=True)\n",
    "fig.suptitle(\"Potential Energy vs Timestep\")\n",
    "for i, kT in enumerate(kTs):   \n",
    "    log = np.loadtxt(f'state{i}/LJ_kT{kT}.log', skiprows=1)\n",
    "    ax1.plot(log[:,0],log[:,3], label=f\"kT={kT}\")\n",
    "    ax2.plot(log[-50:,0],log[-50:,3], label=f\"kT={kT}\")\n",
    "    ax1.set_xlabel(\"Timestep\")\n",
    "    ax2.set_xlabel(\"Timestep\")\n",
    "    ax1.set_ylabel(\"Potential Energy (AU)\")\n",
    "    ax1.legend()\n",
    "    ax2.legend()"
   ]
  },
  {
   "cell_type": "markdown",
   "metadata": {},
   "source": [
    "Last 50 frames look equilibrated (TODO autocorrelation?), so we'll calculate the RDF and use those as our targets."
   ]
  },
  {
   "cell_type": "code",
   "execution_count": null,
   "metadata": {},
   "outputs": [],
   "source": [
    "for i,kT in enumerate(kTs):\n",
    "    gsdfile = f'state{i}/trajectory{kT}.gsd'\n",
    "    with gsd.hoomd.open(gsdfile) as t:\n",
    "        rdf = freud.density.RDF(bins=101, r_max=5)\n",
    "        for snap in t[-50:]:\n",
    "            rdf.compute(system=snap, reset=False)\n",
    "        data = np.stack((rdf.bin_centers, rdf.rdf)).T\n",
    "        np.savetxt(f\"rdfs/rdftarget{i}\", data)\n",
    "        plt.plot(rdf.bin_centers, rdf.rdf)\n",
    "        plt.title(f\"State {i} kT = {kT}\")\n",
    "        plt.xlabel(\"r\")\n",
    "        plt.ylabel(\"g(r)\")\n",
    "        plt.show()"
   ]
  },
  {
   "cell_type": "markdown",
   "metadata": {},
   "source": [
    "Set up global parameters:\n",
    "\n",
    "- rdf_cutoff specifies how far out to calculate the rdf\n",
    "- pot_cutoff specifies where to cut off the IBI calculation of the potential. The tail of the potential function (by default the last 5 points will be smoothed to zero using the [XPLOR smoothing function](https://hoomd-blue.readthedocs.io/en/stable/module-md-pair.html#hoomd.md.pair.pair). Small r values of the potential are also corrected using a linear correction by default. \n",
    "- smooth_rdfs if True, applies a Savitzky-Golay filter to the rdf array"
   ]
  },
  {
   "cell_type": "code",
   "execution_count": 8,
   "metadata": {},
   "outputs": [
    {
     "name": "stdout",
     "output_type": "stream",
     "text": [
      "5.0\n",
      "101\n"
     ]
    }
   ],
   "source": [
    "rdf_cutoff = 5.0\n",
    "opt = MSIBI(\n",
    "    rdf_cutoff=rdf_cutoff, n_rdf_points=101, pot_cutoff=3.0, smooth_rdfs=True, verbose=True\n",
    ")\n",
    "\n",
    "_msibi = get_msibi_instance()\n",
    "print(_msibi.rdf_cutoff)\n",
    "print(_msibi.n_rdf_points)"
   ]
  },
  {
   "cell_type": "code",
   "execution_count": null,
   "metadata": {},
   "outputs": [],
   "source": [
    "msibi.rdf_cutoff"
   ]
  },
  {
   "cell_type": "code",
   "execution_count": null,
   "metadata": {},
   "outputs": [],
   "source": [
    "import gc\n",
    "for obj in gc.get_objects():\n",
    "    if isinstance(obj, msibi.optimize.MSIBI):\n",
    "        _MSIBI = obj"
   ]
  },
  {
   "cell_type": "code",
   "execution_count": null,
   "metadata": {},
   "outputs": [],
   "source": [
    "_MSIBI.rdf_cutoff"
   ]
  },
  {
   "cell_type": "code",
   "execution_count": null,
   "metadata": {},
   "outputs": [],
   "source": [
    "_MSIBI.n_rdf_points"
   ]
  },
  {
   "cell_type": "code",
   "execution_count": null,
   "metadata": {},
   "outputs": [],
   "source": []
  },
  {
   "cell_type": "markdown",
   "metadata": {},
   "source": [
    "## Specify states"
   ]
  },
  {
   "cell_type": "code",
   "execution_count": null,
   "metadata": {},
   "outputs": [],
   "source": [
    "# New way\n",
    "stateA = State(name=\"A\", kT=0.5, traj_file=\"trajectory0.5.gsd\", alpha=0.25)\n",
    "stateB = State(name=\"B\", kT=1.5, traj_file=\"trajectory1.5.gsd\", alpha=0.50)\n",
    "stateC = State(name=\"C\", kT=2.0, traj_file=\"trajectory2.0.gsd\", alpha=0.25)"
   ]
  },
  {
   "cell_type": "code",
   "execution_count": null,
   "metadata": {},
   "outputs": [],
   "source": []
  },
  {
   "cell_type": "code",
   "execution_count": null,
   "metadata": {},
   "outputs": [],
   "source": [
    "# Old Way\n",
    "\n",
    "state0 = State(\n",
    "    kT=0.5, \n",
    "    state_dir='./state0', \n",
    "    traj_file='trajectory0.5.gsd',\n",
    "    name='state0', \n",
    "    backup_trajectory=True\n",
    ")\n",
    "state1 = State(\n",
    "    kT=1.5, \n",
    "    state_dir='./state1', \n",
    "    traj_file='trajectory1.5.gsd',\n",
    "    name='state1',\n",
    "    backup_trajectory=True\n",
    ")\n",
    "state2 = State(\n",
    "    kT=2.0, \n",
    "    state_dir='./state2', \n",
    "    traj_file='trajectory2.0.gsd',\n",
    "    name='state2', \n",
    "    backup_trajectory=True\n",
    ")\n",
    "states = [state0, state1, state2]"
   ]
  },
  {
   "cell_type": "markdown",
   "metadata": {},
   "source": [
    "## Specify pairs"
   ]
  },
  {
   "cell_type": "code",
   "execution_count": null,
   "metadata": {},
   "outputs": [],
   "source": [
    "indices = list(itertools.combinations(range(n_particles), 2))  \n",
    "initial_guess = mie(opt.pot_r, 1.0, 1.0)\n",
    "pair0 = Pair(type1=\"A\", type2=\"A\", potential=initial_guess)"
   ]
  },
  {
   "cell_type": "code",
   "execution_count": null,
   "metadata": {},
   "outputs": [],
   "source": [
    "pair0.add_state(stateA, calculate_target_rdf=True)\n",
    "pair0.add_state(stateB, calculate_target_rdf=True)\n",
    "pair0.add_state(stateC, calculate_target_rdf=True)"
   ]
  },
  {
   "cell_type": "code",
   "execution_count": null,
   "metadata": {},
   "outputs": [],
   "source": [
    "# all-all for n_particles atoms\n",
    "# TODO use freud neighborlist?\n",
    "# TODO write some logic to automate indices generation\n",
    "indices = list(itertools.combinations(range(n_particles), 2))  \n",
    "\n",
    "# 1-D array of potential values.\n",
    "#TODO shouldn't this be boltzmann inverse?\n",
    "initial_guess = mie(opt.pot_r, 1.0, 1.0)  # np array shape (61,)\n",
    "rdf_targets = [\n",
    "    np.loadtxt(f\"rdfs/rdftarget{i}\") for i in range(3)\n",
    "]\n",
    "\n",
    "pair0 = Pair('A', 'A', initial_guess)\n",
    "alphas = [1.0, 1.0, 1.0]"
   ]
  },
  {
   "cell_type": "markdown",
   "metadata": {},
   "source": [
    "Add targets to pair"
   ]
  },
  {
   "cell_type": "code",
   "execution_count": null,
   "metadata": {},
   "outputs": [],
   "source": [
    "for state, target, alpha in zip(states, rdf_targets, alphas):\n",
    "    pair0.add_state(state, target, alpha, indices)\n",
    "pairs = [pair0]  # optimize() expects a list of pairs"
   ]
  },
  {
   "cell_type": "markdown",
   "metadata": {},
   "source": [
    "Implement MSIBI algorithm"
   ]
  },
  {
   "cell_type": "code",
   "execution_count": null,
   "metadata": {},
   "outputs": [],
   "source": [
    "opt.optimize(states, pairs, n_iterations=5, engine='hoomd')"
   ]
  },
  {
   "cell_type": "markdown",
   "metadata": {},
   "source": [
    "Plot results"
   ]
  },
  {
   "cell_type": "code",
   "execution_count": null,
   "metadata": {},
   "outputs": [],
   "source": [
    "for state in states:\n",
    "    plt.title(f'{state.name} kt={state.kT}')\n",
    "    \n",
    "    for step in range(0,opt.n_iterations):\n",
    "        try:\n",
    "            step_rdf = np.loadtxt(f'rdfs/pair_A-A-state_{state.name}-step{step}.txt')\n",
    "            plt.plot(step_rdf[:,0],step_rdf[:,1], label=f'step {step}')\n",
    "        except OSError:\n",
    "            break\n",
    "    target = np.loadtxt(f'rdfs/rdf.target{state.name.strip(\"state\")}.t1t1.txt')\n",
    "    plt.plot(target[:,0], target[:,1], label='target')\n",
    "    plt.legend()\n",
    "    plt.show()"
   ]
  },
  {
   "cell_type": "code",
   "execution_count": null,
   "metadata": {},
   "outputs": [],
   "source": [
    "for step in range(0, opt.n_iterations):\n",
    "    plt.ylim([-1.5,0.5])\n",
    "    plt.xlim([0.5,2])\n",
    "    plt.title(\"MSIBI potentials by iteration\")\n",
    "    try:\n",
    "        step_pot = np.loadtxt(f'potentials/step{step}.pot.A-A.txt')\n",
    "        plt.plot(step_pot[:,0],step_pot[:,1], label=f'step {step}')\n",
    "    except OSError:\n",
    "        break\n",
    "plt.legend()\n",
    "plt.show()"
   ]
  },
  {
   "cell_type": "code",
   "execution_count": null,
   "metadata": {},
   "outputs": [],
   "source": []
  }
 ],
 "metadata": {
  "kernelspec": {
   "display_name": "Python 3",
   "language": "python",
   "name": "python3"
  },
  "language_info": {
   "codemirror_mode": {
    "name": "ipython",
    "version": 3
   },
   "file_extension": ".py",
   "mimetype": "text/x-python",
   "name": "python",
   "nbconvert_exporter": "python",
   "pygments_lexer": "ipython3",
   "version": "3.7.10"
  }
 },
 "nbformat": 4,
 "nbformat_minor": 4
}
