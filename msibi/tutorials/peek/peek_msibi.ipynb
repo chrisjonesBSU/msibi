{
 "cells": [
  {
   "cell_type": "code",
   "execution_count": null,
   "id": "2baadd77",
   "metadata": {},
   "outputs": [],
   "source": [
    "from msibi import MSIBI, State, Pair, Bond, Angle\n",
    "from cmeutils.structure import angle_distribution, bond_distribution\n",
    "import gsd\n",
    "import gsd.hoomd\n",
    "import time\n",
    "import matplotlib.pyplot as plt\n",
    "import math\n",
    "import numpy as np"
   ]
  },
  {
   "cell_type": "code",
   "execution_count": null,
   "id": "a525c431",
   "metadata": {},
   "outputs": [],
   "source": [
    "%%bash\n",
    "\n",
    "for dir in \"states\" \"rdfs\" \"potentials\"\n",
    "do\n",
    "    if [ -d $dir ]\n",
    "    then\n",
    "        rm -r $dir\n",
    "    fi\n",
    "done"
   ]
  },
  {
   "cell_type": "code",
   "execution_count": null,
   "id": "6d8499fb",
   "metadata": {},
   "outputs": [],
   "source": [
    "cg_traj_files = [\n",
    "    \"4.1kT.gsd\",\n",
    "    \"5.5kT.gsd\",\n",
    "    \"6.5kT.gsd\"\n",
    "]\n",
    "\n",
    "cg_traj_files2 = [\n",
    "    \"4.1kT-1.27den.gsd\",\n",
    "]"
   ]
  },
  {
   "cell_type": "code",
   "execution_count": null,
   "id": "825c0640",
   "metadata": {},
   "outputs": [],
   "source": [
    "opt = MSIBI(\n",
    "    integrator=\"hoomd.md.integrate.nvt\",\n",
    "    integrator_kwargs={\"tau\": 0.1},\n",
    "    dt=0.001,\n",
    "    gsd_period=10000,\n",
    "    n_steps=4e6,\n",
    "    max_frames=300\n",
    ")"
   ]
  },
  {
   "cell_type": "markdown",
   "id": "fa300b84",
   "metadata": {},
   "source": [
    "## Add States"
   ]
  },
  {
   "cell_type": "code",
   "execution_count": null,
   "id": "e03d7c22",
   "metadata": {},
   "outputs": [],
   "source": [
    "opt.add_state(\n",
    "    State(name=\"A\", kT=4.1, traj_file=cg_traj_files[0], alpha=1.0)\n",
    ")\n",
    "#opt.add_state(\n",
    "#    State(name=\"B\", kT=5.5, traj_file=cg_traj_files[1], alpha=0.40)\n",
    "#)\n",
    "#opt.add_state(\n",
    "#    State(name=\"C\", kT=6.2, traj_file=cg_traj_files[2], alpha=0.30)\n",
    "#)"
   ]
  },
  {
   "cell_type": "markdown",
   "id": "9fd83213",
   "metadata": {},
   "source": [
    "## Add Pairs"
   ]
  },
  {
   "cell_type": "code",
   "execution_count": null,
   "id": "93b414b2",
   "metadata": {},
   "outputs": [],
   "source": [
    "pair0 = Pair(type1=\"E\", type2=\"E\")\n",
    "pair1 = Pair(type1=\"K\", type2=\"K\")\n",
    "pair2 = Pair(type1=\"E\", type2=\"K\")\n",
    "for pair in [pair0, pair1, pair2]:\n",
    "    pair.set_table_potential(epsilon=1, sigma=1, r_min=1e-4, r_max=6.0, n_points=101)\n",
    "#    pair.set_gauss(epsilon=1, sigma=1.0, r_cut=3.5)\n",
    "#    pair.set_lj(epsilon=1, sigma=1, r_cut=2.5)\n",
    "#    pair.set_from_file(\n",
    "#        file_path=f\"/home/chris/cme/forks/msibi/msibi/tutorials/peek/previous_runs/pair_pot.{pair.name}.txt\"\n",
    "#)\n",
    "    opt.add_pair(pair)"
   ]
  },
  {
   "cell_type": "markdown",
   "id": "dcc947b4",
   "metadata": {},
   "source": [
    "## Add Bonds"
   ]
  },
  {
   "cell_type": "code",
   "execution_count": null,
   "id": "49578898",
   "metadata": {},
   "outputs": [],
   "source": [
    "bond0 = Bond(type1=\"E\", type2=\"K\", head_correction_form=\"exponential\")\n",
    "bond1 = Bond(type1=\"K\", type2=\"K\", head_correction_form=\"exponential\")\n",
    "\n",
    "bond0.set_quadratic(k2=50, l0=1.51, k3=0, k4=0, l_min=0.0, l_max=4.0, n_points=100)\n",
    "bond1.set_quadratic(k2=50, l0=1.55, k3=0, k4=0, l_min=0.0, l_max=4.0, n_points=100)\n",
    "#bond0.set_harmonic(k=50, l0=1.5)\n",
    "#bond1.set_harmonic(k=50, l0=1.5)\n",
    "#bond0.set_from_file(file_path=\"/home/chris/cme/forks/msibi/msibi/tutorials/peek/previous_runs/bond_pot.E-K.txt\")\n",
    "#bond1.set_from_file(file_path=\"/home/chris/cme/forks/msibi/msibi/tutorials/peek/previous_runs/bond_pot.K-K.txt\")\n",
    "\n",
    "opt.add_bond(bond0)\n",
    "opt.add_bond(bond1)"
   ]
  },
  {
   "cell_type": "markdown",
   "id": "fdd20a9c",
   "metadata": {},
   "source": [
    "## Add Angles"
   ]
  },
  {
   "cell_type": "code",
   "execution_count": null,
   "id": "07f99444",
   "metadata": {},
   "outputs": [],
   "source": [
    "angle0 = Angle(type1=\"E\", type2=\"K\", type3=\"K\")\n",
    "angle1 = Angle(type1=\"K\", type2=\"E\", type3=\"K\")\n",
    "\n",
    "angle0.set_harmonic(k=50, theta0=1.2)\n",
    "angle1.set_harmonic(k=50, theta0=1.2)\n",
    "#angle0.set_from_file(file_path=\"/home/chris/cme/forks/msibi/msibi/tutorials/peek/previous_runs/angle_pot.E-K-K.txt\")\n",
    "#angle1.set_from_file(file_path=\"/home/chris/cme/forks/msibi/msibi/tutorials/peek/previous_runs/angle_pot.K-E-K.txt\")\n",
    "\n",
    "#angle0.set_quadratic(k2=100, theta0=2.5, k3=0, k4=0, n_points=100)\n",
    "#angle1.set_quadratic(k2=100, theta0=2.5, k3=0, k4=0, n_points=100)\n",
    "\n",
    "opt.add_angle(angle0)\n",
    "opt.add_angle(angle1)"
   ]
  },
  {
   "cell_type": "markdown",
   "id": "67458bc1",
   "metadata": {},
   "source": [
    "## Run Pair Optimization Iterations"
   ]
  },
  {
   "cell_type": "code",
   "execution_count": null,
   "id": "3589f244",
   "metadata": {
    "scrolled": false
   },
   "outputs": [],
   "source": [
    "opt.optimize_bonds(n_iterations=2)"
   ]
  },
  {
   "cell_type": "code",
   "execution_count": null,
   "id": "d5d1aacc",
   "metadata": {},
   "outputs": [],
   "source": [
    "bond = opt.bonds[0]\n",
    "bond2 = opt.bonds[1]\n",
    "\n",
    "#pair = opt.pairs[0]\n",
    "\n",
    "#angle = opt.angles[0]\n",
    "#angle2 = opt.angles[1]\n",
    "\n",
    "stateA = opt.states[0]"
   ]
  },
  {
   "cell_type": "code",
   "execution_count": null,
   "id": "ee5c576d",
   "metadata": {},
   "outputs": [],
   "source": [
    "thing = bond\n",
    "plt.plot(\n",
    "    thing._states[stateA][\"target_distribution\"][:,0],\n",
    "    thing._states[stateA][\"target_distribution\"][:,1],\n",
    "    label=\"target\"\n",
    ")\n",
    "\n",
    "plt.plot(\n",
    "    thing._states[stateA][\"current_distribution\"][:,0],\n",
    "    thing._states[stateA][\"current_distribution\"][:,1],\n",
    "    label=\"ibi\"\n",
    ")\n",
    "\n",
    "plt.legend()\n",
    "plt.title(thing.name)"
   ]
  },
  {
   "cell_type": "code",
   "execution_count": null,
   "id": "1aedbcf2",
   "metadata": {},
   "outputs": [],
   "source": [
    "plt.plot(bond2.l_range, bond2.potential)\n",
    "#plt.xlim(1.5, 1.8)"
   ]
  },
  {
   "cell_type": "code",
   "execution_count": null,
   "id": "428cc816",
   "metadata": {},
   "outputs": [],
   "source": [
    "thing = pair\n",
    "plt.plot(\n",
    "    thing._states[stateA][\"target_rdf\"][:,0],\n",
    "    thing._states[stateA][\"target_rdf\"][:,1],\n",
    "    label=\"target\"\n",
    ")\n",
    "\n",
    "plt.plot(\n",
    "    thing._states[stateA][\"current_rdf\"][:,0],\n",
    "    thing._states[stateA][\"current_rdf\"][:,1],\n",
    "    label=\"ibi\"\n",
    ")\n",
    "\n",
    "plt.legend()\n",
    "plt.title(thing.name)"
   ]
  },
  {
   "cell_type": "code",
   "execution_count": null,
   "id": "b8f3c24b",
   "metadata": {},
   "outputs": [],
   "source": [
    "plt.plot(pair0.r_range, pair0.potential, \"-\", label=pair0.name)\n",
    "plt.plot(pair1.r_range, pair1.potential, \"-\", label=pair1.name)\n",
    "plt.plot(pair2.r_range, pair2.potential, \"-\", label=pair2.name)\n",
    "\n",
    "plt.ylim(-2, 4)\n",
    "plt.xlim(0, 4.0)\n",
    "plt.legend()"
   ]
  },
  {
   "cell_type": "code",
   "execution_count": null,
   "id": "d4146cc8-de46-42a6-ba7f-0560c3d233ef",
   "metadata": {
    "scrolled": false
   },
   "outputs": [],
   "source": [
    "%matplotlib inline\n",
    "for step in range(0, opt.n_iterations):\n",
    "    plt.ylim([-1.5,3])\n",
    "    plt.xlim([0.5,5])\n",
    "    plt.title(\"MSIBI potentials by iteration\")\n",
    "\n",
    "    step_pot = np.loadtxt(f'potentials/step{step}.pot.P-M.txt')\n",
    "    plt.plot(step_pot[:,0],step_pot[:,1], label=f'step {step}')\n",
    "    \n",
    "plt.title(\"PM Pair\")\n",
    "#plt.legend()\n",
    "plt.show()\n",
    "\n",
    "for step in range(0, opt.n_iterations):\n",
    "    plt.ylim([-1.5,3])\n",
    "    plt.xlim([0.5,5])\n",
    "    plt.title(\"MSIBI potentials by iteration\")\n",
    "\n",
    "    step_pot = np.loadtxt(f'potentials/step{step}.pot.P-P.txt')\n",
    "    plt.plot(step_pot[:,0],step_pot[:,1], label=f'step {step}')\n",
    "\n",
    "plt.title(\"PP Pair\")\n",
    "#plt.legend()\n",
    "plt.show()\n",
    "\n",
    "for step in range(0, opt.n_iterations):\n",
    "    plt.ylim([-1.5,3])\n",
    "    plt.xlim([0.5,5])\n",
    "    plt.title(\"MSIBI potentials by iteration\")\n",
    "\n",
    "    step_pot = np.loadtxt(f'potentials/step{step}.pot.M-M.txt')\n",
    "    plt.plot(step_pot[:,0],step_pot[:,1], label=f'step {step}')\n",
    "\n",
    "plt.title(\"MM Pair\")\n",
    "#plt.legend()\n",
    "plt.show()"
   ]
  },
  {
   "cell_type": "code",
   "execution_count": null,
   "id": "957bdd96-0c80-4632-aec9-614b3c217a97",
   "metadata": {},
   "outputs": [],
   "source": [
    "%matplotlib inline\n",
    "for step in range(opt.n_iterations - 1, opt.n_iterations):\n",
    "    plt.ylim([-1.5,4])\n",
    "    plt.xlim([0,5])\n",
    "    plt.title(\"MSIBI potentials by iteration\")\n",
    "\n",
    "    step_pot = np.loadtxt(f'potentials/step{step}.pot.P-M.txt')\n",
    "    plt.plot(step_pot[:,0],step_pot[:,1], label=f'step {step}')\n",
    "    \n",
    "plt.title(\"PM Pair\")\n",
    "#plt.legend()\n",
    "plt.show()\n",
    "\n",
    "for step in range(opt.n_iterations - 1, opt.n_iterations):\n",
    "    plt.ylim([-1.5,4])\n",
    "    plt.xlim([0,5])\n",
    "    plt.title(\"MSIBI potentials by iteration\")\n",
    "\n",
    "    step_pot = np.loadtxt(f'potentials/step{step}.pot.P-P.txt')\n",
    "    plt.plot(step_pot[:,0],step_pot[:,1], label=f'step {step}')\n",
    "\n",
    "plt.title(\"PP Pair\")\n",
    "#plt.legend()\n",
    "plt.show()\n",
    "\n",
    "for step in range(opt.n_iterations - 1, opt.n_iterations):\n",
    "    plt.ylim([-1.5,4])\n",
    "    plt.xlim([0,5])\n",
    "    plt.title(\"MSIBI potentials by iteration\")\n",
    "\n",
    "    step_pot = np.loadtxt(f'potentials/step{step}.pot.M-M.txt')\n",
    "    plt.plot(step_pot[:,0],step_pot[:,1], label=f'step {step}')\n",
    "\n",
    "plt.title(\"MM Pair\")\n",
    "#plt.legend()\n",
    "plt.show()"
   ]
  },
  {
   "cell_type": "code",
   "execution_count": null,
   "id": "12db773a",
   "metadata": {},
   "outputs": [],
   "source": []
  }
 ],
 "metadata": {
  "kernelspec": {
   "display_name": "Python 3 (ipykernel)",
   "language": "python",
   "name": "python3"
  },
  "language_info": {
   "codemirror_mode": {
    "name": "ipython",
    "version": 3
   },
   "file_extension": ".py",
   "mimetype": "text/x-python",
   "name": "python",
   "nbconvert_exporter": "python",
   "pygments_lexer": "ipython3",
   "version": "3.9.12"
  }
 },
 "nbformat": 4,
 "nbformat_minor": 5
}
