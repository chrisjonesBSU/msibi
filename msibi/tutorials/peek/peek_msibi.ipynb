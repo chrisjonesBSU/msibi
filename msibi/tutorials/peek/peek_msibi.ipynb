{
 "cells": [
  {
   "cell_type": "code",
   "execution_count": 1,
   "id": "2baadd77",
   "metadata": {},
   "outputs": [],
   "source": [
    "from msibi import MSIBI, State, Pair, Bond, Angle\n",
    "import gsd\n",
    "import gsd.hoomd\n",
    "import time"
   ]
  },
  {
   "cell_type": "code",
   "execution_count": 2,
   "id": "a525c431",
   "metadata": {},
   "outputs": [],
   "source": [
    "%%bash\n",
    "\n",
    "for dir in \"states\" \"rdfs\" \"potentials\"\n",
    "do\n",
    "    if [ -d $dir ]\n",
    "    then\n",
    "        rm -r $dir\n",
    "    fi\n",
    "done"
   ]
  },
  {
   "cell_type": "code",
   "execution_count": 3,
   "id": "a98b2581",
   "metadata": {},
   "outputs": [
    {
     "name": "stdout",
     "output_type": "stream",
     "text": [
      "4.1kT-1.27den.gsd\n",
      "5.5kT-1.38den.gsd\n",
      "6.2kT-1.27den.gsd\n",
      "peek_msibi.ipynb\n"
     ]
    }
   ],
   "source": [
    "%%bash\n",
    "ls"
   ]
  },
  {
   "cell_type": "code",
   "execution_count": 4,
   "id": "6d8499fb",
   "metadata": {},
   "outputs": [],
   "source": [
    "cg_traj_files = [\n",
    "    \"4.1kT-1.27den.gsd\",\n",
    "    \"5.5kT-1.38den.gsd\",\n",
    "    \"6.2kT-1.27den.gsd\"\n",
    "]"
   ]
  },
  {
   "cell_type": "code",
   "execution_count": 5,
   "id": "825c0640",
   "metadata": {},
   "outputs": [],
   "source": [
    "opt = MSIBI(\n",
    "    integrator=\"hoomd.md.integrate.nvt\",\n",
    "    integrator_kwargs={\"tau\": 0.1},\n",
    "    dt=0.001,\n",
    "    gsd_period=100,\n",
    "    n_steps=1e4,\n",
    "    max_frames=5,\n",
    "    verbose=False\n",
    ")"
   ]
  },
  {
   "cell_type": "markdown",
   "id": "fa300b84",
   "metadata": {},
   "source": [
    "## Add States"
   ]
  },
  {
   "cell_type": "code",
   "execution_count": 6,
   "id": "e03d7c22",
   "metadata": {},
   "outputs": [],
   "source": [
    "opt.add_state(\n",
    "    State(name=\"A\", kT=4.1, traj_file=cg_traj_files[0], alpha=0.20)\n",
    ")\n",
    "opt.add_state(\n",
    "    State(name=\"B\", kT=5.5, traj_file=cg_traj_files[1], alpha=0.40)\n",
    ")\n",
    "opt.add_state(\n",
    "    State(name=\"C\", kT=6.2, traj_file=cg_traj_files[2], alpha=0.30)\n",
    ")"
   ]
  },
  {
   "cell_type": "markdown",
   "id": "9fd83213",
   "metadata": {},
   "source": [
    "## Add Pairs"
   ]
  },
  {
   "cell_type": "code",
   "execution_count": 7,
   "id": "93b414b2",
   "metadata": {},
   "outputs": [],
   "source": [
    "pair0 = Pair(type1=\"E\", type2=\"E\")\n",
    "pair1 = Pair(type1=\"K\", type2=\"K\")\n",
    "pair2 = Pair(type1=\"E\", type2=\"K\")\n",
    "for pair in [pair0, pair1, pair2]:\n",
    "    pair.set_table_potential(epsilon=1, sigma=1, r_min=1e-4, r_max=4.0, n_points=101)\n",
    "    opt.add_pair(pair)"
   ]
  },
  {
   "cell_type": "markdown",
   "id": "dcc947b4",
   "metadata": {},
   "source": [
    "## Add Bonds"
   ]
  },
  {
   "cell_type": "code",
   "execution_count": 8,
   "id": "49578898",
   "metadata": {},
   "outputs": [],
   "source": [
    "bond0 = Bond(type1=\"E\", type2=\"K\")\n",
    "bond1 = Bond(type1=\"K\", type2=\"K\")\n",
    "\n",
    "bond0.set_harmonic(k=500, l0=2.7)\n",
    "bond1.set_harmonic(k=450, l0=2.8)\n",
    "\n",
    "opt.add_bond(bond0)\n",
    "opt.add_bond(bond1)"
   ]
  },
  {
   "cell_type": "markdown",
   "id": "fdd20a9c",
   "metadata": {},
   "source": [
    "## Add Angles"
   ]
  },
  {
   "cell_type": "code",
   "execution_count": 9,
   "id": "07f99444",
   "metadata": {},
   "outputs": [],
   "source": [
    "angle0 = Angle(type1=\"E\", type2=\"K\", type3=\"K\")\n",
    "angle1 = Angle(type1=\"K\", type2=\"E\", type3=\"K\")\n",
    "\n",
    "angle0.set_harmonic(k=50, theta0=2.4)\n",
    "angle1.set_harmonic(k=50, theta0=2.4)\n",
    "\n",
    "opt.add_angle(angle0)\n",
    "opt.add_angle(angle1)"
   ]
  },
  {
   "cell_type": "code",
   "execution_count": 12,
   "id": "ed0b386d",
   "metadata": {},
   "outputs": [
    {
     "data": {
      "text/plain": [
       "['__class__',\n",
       " '__delattr__',\n",
       " '__dict__',\n",
       " '__dir__',\n",
       " '__doc__',\n",
       " '__eq__',\n",
       " '__format__',\n",
       " '__ge__',\n",
       " '__getattribute__',\n",
       " '__gt__',\n",
       " '__hash__',\n",
       " '__init__',\n",
       " '__init_subclass__',\n",
       " '__le__',\n",
       " '__lt__',\n",
       " '__module__',\n",
       " '__ne__',\n",
       " '__new__',\n",
       " '__reduce__',\n",
       " '__reduce_ex__',\n",
       " '__repr__',\n",
       " '__setattr__',\n",
       " '__sizeof__',\n",
       " '__str__',\n",
       " '__subclasshook__',\n",
       " '__weakref__',\n",
       " '_add_state',\n",
       " '_compute_current_distribution',\n",
       " '_get_state_distribution',\n",
       " '_potential_file',\n",
       " '_save_current_distribution',\n",
       " '_states',\n",
       " '_update_potential',\n",
       " 'angle_entry',\n",
       " 'angle_init',\n",
       " 'angle_type',\n",
       " 'name',\n",
       " 'potential',\n",
       " 'previous_potential',\n",
       " 'set_harmonic',\n",
       " 'set_quadratic',\n",
       " 'type1',\n",
       " 'type2',\n",
       " 'type3',\n",
       " 'update_potential_file']"
      ]
     },
     "execution_count": 12,
     "metadata": {},
     "output_type": "execute_result"
    }
   ],
   "source": [
    "dir(angle0)"
   ]
  },
  {
   "cell_type": "markdown",
   "id": "67458bc1",
   "metadata": {},
   "source": [
    "## Run Pair Optimization Iterations"
   ]
  },
  {
   "cell_type": "code",
   "execution_count": 10,
   "id": "3589f244",
   "metadata": {
    "scrolled": false
   },
   "outputs": [
    {
     "name": "stdout",
     "output_type": "stream",
     "text": [
      "-------- Iteration 0 --------\n",
      "Running state A on GPU\n",
      "Launched HOOMD in /home/chris/cme/forks/msibi/msibi/tutorials/peek/states/A_4.1\n",
      "Finished in /home/chris/cme/forks/msibi/msibi/tutorials/peek/states/A_4.1.\n",
      "Running state B on GPU\n",
      "Launched HOOMD in /home/chris/cme/forks/msibi/msibi/tutorials/peek/states/B_5.5\n",
      "Finished in /home/chris/cme/forks/msibi/msibi/tutorials/peek/states/B_5.5.\n",
      "Running state C on GPU\n",
      "Launched HOOMD in /home/chris/cme/forks/msibi/msibi/tutorials/peek/states/C_6.2\n",
      "Finished in /home/chris/cme/forks/msibi/msibi/tutorials/peek/states/C_6.2.\n",
      "pair E-E, state A, iteration 0: 0.882525\n",
      "pair E-E, state B, iteration 0: 0.896128\n",
      "pair E-E, state C, iteration 0: 0.881490\n",
      "pair K-K, state A, iteration 0: 0.893351\n",
      "pair K-K, state B, iteration 0: 0.905159\n"
     ]
    },
    {
     "name": "stderr",
     "output_type": "stream",
     "text": [
      "/home/chris/cme/forks/msibi/msibi/pair.py:306: RuntimeWarning: divide by zero encountered in true_divide\n",
      "  kT * alpha * np.log(current_rdf[:,1] / target_rdf[:,1]) / N\n",
      "/home/chris/cme/forks/msibi/msibi/pair.py:306: RuntimeWarning: invalid value encountered in true_divide\n",
      "  kT * alpha * np.log(current_rdf[:,1] / target_rdf[:,1]) / N\n"
     ]
    },
    {
     "name": "stdout",
     "output_type": "stream",
     "text": [
      "pair K-K, state C, iteration 0: 0.896543\n",
      "pair E-K, state A, iteration 0: 0.889500\n",
      "pair E-K, state B, iteration 0: 0.900425\n",
      "pair E-K, state C, iteration 0: 0.891097\n"
     ]
    },
    {
     "name": "stderr",
     "output_type": "stream",
     "text": [
      "/home/chris/cme/forks/msibi/msibi/pair.py:306: RuntimeWarning: divide by zero encountered in log\n",
      "  kT * alpha * np.log(current_rdf[:,1] / target_rdf[:,1]) / N\n"
     ]
    }
   ],
   "source": [
    "opt.optimize_pairs(n_iterations=1)"
   ]
  },
  {
   "cell_type": "code",
   "execution_count": 11,
   "id": "50edef44",
   "metadata": {},
   "outputs": [
    {
     "name": "stdout",
     "output_type": "stream",
     "text": [
      "/home/chris/cme/forks/msibi/msibi/tutorials/peek/potentials/pair_pot.E-E.txt\n",
      "table=hoomd.md.pair.table(width=101,nlist=nl)\n",
      "table.set_from_file('E', 'E', filename='/home/chris/cme/forks/msibi/msibi/tutorials/peek/potentials/pair_pot.E-E.txt')\n",
      "/home/chris/cme/forks/msibi/msibi/tutorials/peek/potentials/pair_pot.K-K.txt\n",
      "table=hoomd.md.pair.table(width=101,nlist=nl)\n",
      "table.set_from_file('K', 'K', filename='/home/chris/cme/forks/msibi/msibi/tutorials/peek/potentials/pair_pot.K-K.txt')\n",
      "/home/chris/cme/forks/msibi/msibi/tutorials/peek/potentials/pair_pot.E-K.txt\n",
      "table=hoomd.md.pair.table(width=101,nlist=nl)\n",
      "table.set_from_file('E', 'K', filename='/home/chris/cme/forks/msibi/msibi/tutorials/peek/potentials/pair_pot.E-K.txt')\n"
     ]
    }
   ],
   "source": [
    "for pair in [pair0, pair1, pair2]:\n",
    "    print(pair._potential_file)\n",
    "    print(pair.pair_init)\n",
    "    print(pair.pair_entry)"
   ]
  },
  {
   "cell_type": "code",
   "execution_count": null,
   "id": "36beac40-8ffc-4c2e-991b-8f49779c1917",
   "metadata": {},
   "outputs": [],
   "source": [
    "import matplotlib.pyplot as plt\n",
    "import numpy as np"
   ]
  },
  {
   "cell_type": "code",
   "execution_count": null,
   "id": "d4146cc8-de46-42a6-ba7f-0560c3d233ef",
   "metadata": {
    "scrolled": false
   },
   "outputs": [],
   "source": [
    "%matplotlib inline\n",
    "for step in range(0, opt.n_iterations):\n",
    "    plt.ylim([-1.5,3])\n",
    "    plt.xlim([0.5,5])\n",
    "    plt.title(\"MSIBI potentials by iteration\")\n",
    "\n",
    "    step_pot = np.loadtxt(f'potentials/step{step}.pot.P-M.txt')\n",
    "    plt.plot(step_pot[:,0],step_pot[:,1], label=f'step {step}')\n",
    "    \n",
    "plt.title(\"PM Pair\")\n",
    "#plt.legend()\n",
    "plt.show()\n",
    "\n",
    "for step in range(0, opt.n_iterations):\n",
    "    plt.ylim([-1.5,3])\n",
    "    plt.xlim([0.5,5])\n",
    "    plt.title(\"MSIBI potentials by iteration\")\n",
    "\n",
    "    step_pot = np.loadtxt(f'potentials/step{step}.pot.P-P.txt')\n",
    "    plt.plot(step_pot[:,0],step_pot[:,1], label=f'step {step}')\n",
    "\n",
    "plt.title(\"PP Pair\")\n",
    "#plt.legend()\n",
    "plt.show()\n",
    "\n",
    "for step in range(0, opt.n_iterations):\n",
    "    plt.ylim([-1.5,3])\n",
    "    plt.xlim([0.5,5])\n",
    "    plt.title(\"MSIBI potentials by iteration\")\n",
    "\n",
    "    step_pot = np.loadtxt(f'potentials/step{step}.pot.M-M.txt')\n",
    "    plt.plot(step_pot[:,0],step_pot[:,1], label=f'step {step}')\n",
    "\n",
    "plt.title(\"MM Pair\")\n",
    "#plt.legend()\n",
    "plt.show()"
   ]
  },
  {
   "cell_type": "code",
   "execution_count": null,
   "id": "957bdd96-0c80-4632-aec9-614b3c217a97",
   "metadata": {},
   "outputs": [],
   "source": [
    "%matplotlib inline\n",
    "for step in range(opt.n_iterations - 1, opt.n_iterations):\n",
    "    plt.ylim([-1.5,4])\n",
    "    plt.xlim([0,5])\n",
    "    plt.title(\"MSIBI potentials by iteration\")\n",
    "\n",
    "    step_pot = np.loadtxt(f'potentials/step{step}.pot.P-M.txt')\n",
    "    plt.plot(step_pot[:,0],step_pot[:,1], label=f'step {step}')\n",
    "    \n",
    "plt.title(\"PM Pair\")\n",
    "#plt.legend()\n",
    "plt.show()\n",
    "\n",
    "for step in range(opt.n_iterations - 1, opt.n_iterations):\n",
    "    plt.ylim([-1.5,4])\n",
    "    plt.xlim([0,5])\n",
    "    plt.title(\"MSIBI potentials by iteration\")\n",
    "\n",
    "    step_pot = np.loadtxt(f'potentials/step{step}.pot.P-P.txt')\n",
    "    plt.plot(step_pot[:,0],step_pot[:,1], label=f'step {step}')\n",
    "\n",
    "plt.title(\"PP Pair\")\n",
    "#plt.legend()\n",
    "plt.show()\n",
    "\n",
    "for step in range(opt.n_iterations - 1, opt.n_iterations):\n",
    "    plt.ylim([-1.5,4])\n",
    "    plt.xlim([0,5])\n",
    "    plt.title(\"MSIBI potentials by iteration\")\n",
    "\n",
    "    step_pot = np.loadtxt(f'potentials/step{step}.pot.M-M.txt')\n",
    "    plt.plot(step_pot[:,0],step_pot[:,1], label=f'step {step}')\n",
    "\n",
    "plt.title(\"MM Pair\")\n",
    "#plt.legend()\n",
    "plt.show()"
   ]
  },
  {
   "cell_type": "code",
   "execution_count": null,
   "id": "12db773a",
   "metadata": {},
   "outputs": [],
   "source": []
  }
 ],
 "metadata": {
  "kernelspec": {
   "display_name": "Python 3 (ipykernel)",
   "language": "python",
   "name": "python3"
  },
  "language_info": {
   "codemirror_mode": {
    "name": "ipython",
    "version": 3
   },
   "file_extension": ".py",
   "mimetype": "text/x-python",
   "name": "python",
   "nbconvert_exporter": "python",
   "pygments_lexer": "ipython3",
   "version": "3.9.10"
  }
 },
 "nbformat": 4,
 "nbformat_minor": 5
}
